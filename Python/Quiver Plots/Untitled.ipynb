{
 "cells": [
  {
   "cell_type": "code",
   "execution_count": 31,
   "id": "b69fe58a",
   "metadata": {},
   "outputs": [
    {
     "ename": "TypeError",
     "evalue": "__str__ returned non-string (type NoneType)",
     "output_type": "error",
     "traceback": [
      "\u001b[1;31m---------------------------------------------------------------------------\u001b[0m",
      "\u001b[1;31mTypeError\u001b[0m                                 Traceback (most recent call last)",
      "Input \u001b[1;32mIn [31]\u001b[0m, in \u001b[0;36m<cell line: 44>\u001b[1;34m()\u001b[0m\n\u001b[0;32m     40\u001b[0m loc3d \u001b[38;5;241m=\u001b[39m Loc3D()\n\u001b[0;32m     42\u001b[0m data_nom, data_1 \u001b[38;5;241m=\u001b[39m loc3d\u001b[38;5;241m.\u001b[39mdata_load(filename)\n\u001b[1;32m---> 44\u001b[0m \u001b[38;5;28;43mprint\u001b[39;49m\u001b[43m(\u001b[49m\u001b[43mdata_nom\u001b[49m\u001b[43m)\u001b[49m\n",
      "\u001b[1;31mTypeError\u001b[0m: __str__ returned non-string (type NoneType)"
     ]
    }
   ],
   "source": [
    "from dataclasses import dataclass\n",
    "import dataclasses\n",
    "import pandas as pd\n",
    "\n",
    "@dataclass\n",
    "class Loc3D:\n",
    "    \n",
    "    x: list=dataclasses.field(default_factory=list)\n",
    "    y: list=dataclasses.field(default_factory=list)\n",
    "    z: list=dataclasses.field(default_factory=list)\n",
    "    labels: list=dataclasses.field(default_factory=list)\n",
    "    \n",
    "    def __repr__(self)-> str:\n",
    "        pass\n",
    "    def __str__(self)-> str:\n",
    "        pass\n",
    "    def __add__(self, new_data)-> 'Loc3D':\n",
    "        pass\n",
    "    def shift(self, shft_data)-> 'Loc3D':\n",
    "        pass\n",
    "    def truncate(self, idx_start=0, idx_end=-1)-> 'Loc3D':\n",
    "        pass\n",
    "    def data_load(self, filename)-> 'Loc3D':\n",
    "        df = pd.read_excel(filename)\n",
    "        \n",
    "        X_nom = list(df.X_nom)\n",
    "        Y_nom = list(df.Y_nom)\n",
    "        Z_nom = list(df.Z_nom)\n",
    "        \n",
    "        X = list(df.X)\n",
    "        Y = list(df.Y)\n",
    "        Z = list(df.Z)\n",
    "        \n",
    "        labels = list(df.id)\n",
    "        \n",
    "        return Loc3D(X_nom, Y_nom, Z_nom, labels),Loc3D(X, Y, Z, labels)\n",
    "\n",
    "filename = \"meas_data_1.xlsx\"\n",
    "\n",
    "loc3d = Loc3D()\n",
    "\n",
    "data_nom, data_1 = loc3d.data_load(filename)\n",
    "\n",
    "print(data_nom)"
   ]
  }
 ],
 "metadata": {
  "kernelspec": {
   "display_name": "Python 3 (ipykernel)",
   "language": "python",
   "name": "python3"
  },
  "language_info": {
   "codemirror_mode": {
    "name": "ipython",
    "version": 3
   },
   "file_extension": ".py",
   "mimetype": "text/x-python",
   "name": "python",
   "nbconvert_exporter": "python",
   "pygments_lexer": "ipython3",
   "version": "3.10.4"
  }
 },
 "nbformat": 4,
 "nbformat_minor": 5
}
